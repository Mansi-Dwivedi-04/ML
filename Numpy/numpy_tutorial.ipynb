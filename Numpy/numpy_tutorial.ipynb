{
 "cells": [
  {
   "cell_type": "code",
   "execution_count": 165,
   "id": "1f3d79e1",
   "metadata": {},
   "outputs": [
    {
     "name": "stdout",
     "output_type": "stream",
     "text": [
      "[0 1 2 3 4 5 6 7 8 9]\n"
     ]
    }
   ],
   "source": [
    "# Using Arange\n",
    "import numpy as np\n",
    "arr1D = np.arange(10)\n",
    "print(arr1D)"
   ]
  },
  {
   "cell_type": "code",
   "execution_count": 113,
   "id": "d64932f4",
   "metadata": {},
   "outputs": [
    {
     "name": "stdout",
     "output_type": "stream",
     "text": [
      "[[ 0  1  2  3]\n",
      " [ 4  5  6  7]\n",
      " [ 8  9 10 11]\n",
      " [12 13 14 15]]\n"
     ]
    }
   ],
   "source": [
    "# Reshaping our array\n",
    "arr2D = np.arange(16).reshape(4,4)\n",
    "print(arr2D)"
   ]
  },
  {
   "cell_type": "code",
   "execution_count": 114,
   "id": "549686db",
   "metadata": {},
   "outputs": [
    {
     "name": "stdout",
     "output_type": "stream",
     "text": [
      "Shape: (4, 4), Data_type: int32, Stride: (16, 4)\n"
     ]
    }
   ],
   "source": [
    "# Finding the shape, data type and stride of arr\n",
    "shape = arr2D.shape\n",
    "data_type = arr2D.dtype\n",
    "stride = arr2D.strides\n",
    "\n",
    "print(f\"Shape: {shape}, Data_type: {data_type}, Stride: {stride}\",)"
   ]
  },
  {
   "cell_type": "markdown",
   "id": "d124bcc3",
   "metadata": {},
   "source": [
    "##### Here is tells us that we have to move 4 bytes to move from one element its adjacent in the same row and 20 bytes to move from one row to the its adjacent in the same col."
   ]
  },
  {
   "cell_type": "code",
   "execution_count": 115,
   "id": "9c2bf9a6",
   "metadata": {},
   "outputs": [],
   "source": [
    "# Converting a list to array\n",
    "li = [[1,2,3,5],[6,7,8,9]]\n",
    "li = np.array(li)"
   ]
  },
  {
   "cell_type": "code",
   "execution_count": 116,
   "id": "0063b20e",
   "metadata": {},
   "outputs": [
    {
     "name": "stdout",
     "output_type": "stream",
     "text": [
      "[[ 6  7  8 10]\n",
      " [11 12 13 14]]\n"
     ]
    }
   ],
   "source": [
    "# Simple broadcasting to the array\n",
    "li += 5\n",
    "print(li)"
   ]
  },
  {
   "cell_type": "code",
   "execution_count": 141,
   "id": "8755b103",
   "metadata": {},
   "outputs": [
    {
     "data": {
      "text/plain": [
       "array([ 1.  ,  5.75, 10.5 , 15.25, 20.  ])"
      ]
     },
     "execution_count": 141,
     "metadata": {},
     "output_type": "execute_result"
    }
   ],
   "source": [
    "# Equally divides the number betwenn start and stop\n",
    "np.linspace(1,20,5)"
   ]
  },
  {
   "cell_type": "code",
   "execution_count": 118,
   "id": "6df02994",
   "metadata": {},
   "outputs": [
    {
     "name": "stdout",
     "output_type": "stream",
     "text": [
      "[[100, 2, 3]]\n",
      "[[100, 2, 3]]\n",
      "[[100, 200, 3]]\n",
      "[[100, 200, 3]]\n"
     ]
    }
   ],
   "source": [
    "# Shallow copy\n",
    "\n",
    "original = [[1, 2, 3]]\n",
    "shallow = original.copy()\n",
    "\n",
    "# Modifying the shallow copy\n",
    "shallow[0][0] = 100\n",
    "print(shallow)  # [100, 2, 3]\n",
    "print(original)  # [100, 2, 3]\n",
    "\n",
    "# Modifying the original\n",
    "original[0][1] = 200\n",
    "print(shallow)  # [100, 200, 3]\n",
    "print(original)  # [1, 200, 3]"
   ]
  },
  {
   "cell_type": "code",
   "execution_count": 119,
   "id": "079d7082",
   "metadata": {},
   "outputs": [
    {
     "name": "stdout",
     "output_type": "stream",
     "text": [
      "Inverse of \n",
      "[[1 2]\n",
      " [3 4]]: \n",
      "[[-2.   1. ]\n",
      " [ 1.5 -0.5]]\n",
      "Determinant of array is \n",
      "-2.0000000000000004\n"
     ]
    }
   ],
   "source": [
    "# Linear algebra functions example\n",
    "\n",
    "arr3 = np.array([[1,2],[3,4]])\n",
    "arr3_inv = np.linalg.inv(arr3)\n",
    "print(f\"Inverse of \\n{arr3}: \\n{arr3_inv}\")\n",
    "\n",
    "arr4 = np.linalg.det(arr3)\n",
    "print(f\"Determinant of array is \\n{arr4}\")"
   ]
  },
  {
   "cell_type": "code",
   "execution_count": 120,
   "id": "f511b13e",
   "metadata": {},
   "outputs": [
    {
     "name": "stdout",
     "output_type": "stream",
     "text": [
      "[ 0  1  2  3  4  5  6  7  8  9 10 11 12 13 14 15]\n"
     ]
    }
   ],
   "source": [
    "# To flatten an array\n",
    "Flattend_array = arr2D.flatten()\n",
    "print(Flattend_array)"
   ]
  },
  {
   "cell_type": "code",
   "execution_count": 121,
   "id": "cb8e0d13",
   "metadata": {},
   "outputs": [
    {
     "name": "stdout",
     "output_type": "stream",
     "text": [
      "[15 14 13 12 11 10  9  8  7  6  5  4  3  2  1  0]\n",
      "[15 14 13 12 11 10  9  8  7  6  5  4  3  2  1  0]\n"
     ]
    }
   ],
   "source": [
    "# Flipping an array\n",
    "# For 1D\n",
    "print(Flattend_array[::-1])\n",
    "\n",
    "# For all Dimensions\n",
    "print(np.flip(Flattend_array))\n",
    "\n",
    "# For 2D we have other functions like np.flipudp and np.fliplr"
   ]
  },
  {
   "cell_type": "code",
   "execution_count": null,
   "id": "7ba8c173",
   "metadata": {},
   "outputs": [
    {
     "data": {
      "text/plain": [
       "array([1, 3, 5])"
      ]
     },
     "execution_count": 122,
     "metadata": {},
     "output_type": "execute_result"
    }
   ],
   "source": [
    "# Slicing works like array[row_start:row_stop:row_step, col_start:col_stop:col_step]\n",
    "\n",
    "Flattend_array[1:7:2]"
   ]
  },
  {
   "cell_type": "code",
   "execution_count": 123,
   "id": "eb91f7e1",
   "metadata": {},
   "outputs": [
    {
     "name": "stdout",
     "output_type": "stream",
     "text": [
      "For array [ 0  1  2  3  4  5  6  7  8  9 10 11 12 13 14 15] below are various stats\n",
      "Mean : 7.5\n",
      "Median : 7.5\n",
      "Standard Deviation: 4.6097722286464435\n",
      "Variance: 21.25\n"
     ]
    }
   ],
   "source": [
    "# Mean, median, std\n",
    "Flattend_array_mean = np.mean(Flattend_array)\n",
    "Flattend_array_median = np.median(Flattend_array)\n",
    "Flattend_array_std = np.std(Flattend_array)\n",
    "Flattend_array_var = np.var(Flattend_array)\n",
    "\n",
    "print(f\"For array {Flattend_array} below are various stats\")\n",
    "print(f\"Mean : {Flattend_array_mean}\")\n",
    "print(f\"Median : {Flattend_array_median}\")\n",
    "print(f\"Standard Deviation: {Flattend_array_std}\")\n",
    "print(f\"Variance: {Flattend_array_var}\")\n",
    "\n",
    "# Mode is not present in numpy"
   ]
  },
  {
   "cell_type": "code",
   "execution_count": 166,
   "id": "e30718b7",
   "metadata": {},
   "outputs": [
    {
     "name": "stdout",
     "output_type": "stream",
     "text": [
      "[[0.42637443 0.6449223  0.48596202]\n",
      " [0.36859408 0.29005048 0.96431425]\n",
      " [0.18263975 0.59333761 0.09822551]\n",
      " [0.60195195 0.76309615 0.7442302 ]]\n"
     ]
    },
    {
     "data": {
      "text/plain": [
       "array([465, 453, 479, 474])"
      ]
     },
     "execution_count": 166,
     "metadata": {},
     "output_type": "execute_result"
    }
   ],
   "source": [
    "# Generate random number\n",
    "# np.random.rand generates number between 0 and 1\n",
    "\n",
    "print(np.random.rand(4,3)) # Generates a random array for the specified dimention\n",
    "np.random.randint(442,535,size=4)"
   ]
  },
  {
   "cell_type": "code",
   "execution_count": 167,
   "id": "70f9b702",
   "metadata": {},
   "outputs": [
    {
     "data": {
      "text/plain": [
       "10.05"
      ]
     },
     "execution_count": 167,
     "metadata": {},
     "output_type": "execute_result"
    }
   ],
   "source": [
    "# Percentiles\n",
    "np.percentile(Flattend_array,67) # Here we can specify quartile too like[4,5,6]"
   ]
  },
  {
   "cell_type": "code",
   "execution_count": 131,
   "id": "84bda551",
   "metadata": {},
   "outputs": [
    {
     "data": {
      "text/plain": [
       "numpy.float64"
      ]
     },
     "execution_count": 131,
     "metadata": {},
     "output_type": "execute_result"
    }
   ],
   "source": [
    "#Creating array of 2X4 filles with 0\n",
    "arr = np.zeros((2,4))\n",
    "type(arr[0][0])"
   ]
  },
  {
   "cell_type": "code",
   "execution_count": 154,
   "id": "0d478175",
   "metadata": {},
   "outputs": [
    {
     "data": {
      "text/plain": [
       "array([[336, 325, 408],\n",
       "       [ 54,  45, 612]])"
      ]
     },
     "execution_count": 154,
     "metadata": {},
     "output_type": "execute_result"
    }
   ],
   "source": [
    "# Multiplication\n",
    "arr = np.array([[56,65,6],[9,9,9]])\n",
    "arr2 = np.array([[6,5,68]])\n",
    "np.multiply(arr,arr2)"
   ]
  },
  {
   "cell_type": "code",
   "execution_count": 168,
   "id": "41de39e6",
   "metadata": {},
   "outputs": [
    {
     "data": {
      "text/plain": [
       "array([127,  27])"
      ]
     },
     "execution_count": 168,
     "metadata": {},
     "output_type": "execute_result"
    }
   ],
   "source": [
    "# To apply a fucntion along row and col\n",
    "def fun(x):\n",
    "    return x[0]+x[1]+x[2]\n",
    "np.apply_along_axis(fun,1,arr)"
   ]
  },
  {
   "cell_type": "code",
   "execution_count": null,
   "id": "a126b0a2",
   "metadata": {},
   "outputs": [
    {
     "data": {
      "text/plain": [
       "array([[1, 2, 4],\n",
       "       [4, 5, 9]])"
      ]
     },
     "execution_count": 176,
     "metadata": {},
     "output_type": "execute_result"
    }
   ],
   "source": [
    "# To apply a funtion to all elements of an array\n",
    "def add_2(x):\n",
    "    return x if x<10 else x**9\n",
    "func = np.vectorize(add_2)\n",
    "func(np.array([[1,2,4],[4,5,9]]))"
   ]
  },
  {
   "cell_type": "code",
   "execution_count": null,
   "id": "bb2d522c",
   "metadata": {},
   "outputs": [],
   "source": []
  }
 ],
 "metadata": {
  "kernelspec": {
   "display_name": "base",
   "language": "python",
   "name": "python3"
  },
  "language_info": {
   "codemirror_mode": {
    "name": "ipython",
    "version": 3
   },
   "file_extension": ".py",
   "mimetype": "text/x-python",
   "name": "python",
   "nbconvert_exporter": "python",
   "pygments_lexer": "ipython3",
   "version": "3.9.12"
  }
 },
 "nbformat": 4,
 "nbformat_minor": 5
}
