{
 "cells": [
  {
   "cell_type": "code",
   "execution_count": 71,
   "id": "1f3d79e1",
   "metadata": {},
   "outputs": [
    {
     "name": "stdout",
     "output_type": "stream",
     "text": [
      "[0 1 2 3 4 5 6 7 8 9]\n"
     ]
    }
   ],
   "source": [
    "import numpy as np\n",
    "arr1D = np.arange(10)\n",
    "print(arr1D)"
   ]
  },
  {
   "cell_type": "code",
   "execution_count": 81,
   "id": "d64932f4",
   "metadata": {},
   "outputs": [
    {
     "name": "stdout",
     "output_type": "stream",
     "text": [
      "[[ 0  1  2  3]\n",
      " [ 4  5  6  7]\n",
      " [ 8  9 10 11]\n",
      " [12 13 14 15]]\n"
     ]
    }
   ],
   "source": [
    "# Reshaping our array\n",
    "arr2D = np.arange(16).reshape(4,4)\n",
    "print(arr2D)"
   ]
  },
  {
   "cell_type": "code",
   "execution_count": 82,
   "id": "549686db",
   "metadata": {},
   "outputs": [
    {
     "name": "stdout",
     "output_type": "stream",
     "text": [
      "Shape: (4, 4), Data_type: int32, Stride: (16, 4)\n"
     ]
    }
   ],
   "source": [
    "# Finding the shape, data type and stride of arr\n",
    "shape = arr2D.shape\n",
    "data_type = arr2D.dtype\n",
    "stride = arr2D.strides\n",
    "\n",
    "print(f\"Shape: {shape}, Data_type: {data_type}, Stride: {stride}\",)"
   ]
  },
  {
   "cell_type": "markdown",
   "id": "d124bcc3",
   "metadata": {},
   "source": [
    "###### Here is tells us that we have to move 4 bytes to move from one element its adjacent in the same row and 20 bytes to move from one row to the its adjacent in the same col."
   ]
  },
  {
   "cell_type": "code",
   "execution_count": 83,
   "id": "9c2bf9a6",
   "metadata": {},
   "outputs": [],
   "source": [
    "# Converting a list to array\n",
    "li = [[1,2,3,5],[6,7,8,9]]\n",
    "li = np.array(li)"
   ]
  },
  {
   "cell_type": "code",
   "execution_count": 84,
   "id": "0063b20e",
   "metadata": {},
   "outputs": [
    {
     "name": "stdout",
     "output_type": "stream",
     "text": [
      "[[ 6  7  8 10]\n",
      " [11 12 13 14]]\n"
     ]
    }
   ],
   "source": [
    "# Simple broadcasting to the array\n",
    "li += 5\n",
    "print(li)"
   ]
  },
  {
   "cell_type": "code",
   "execution_count": 85,
   "id": "8755b103",
   "metadata": {},
   "outputs": [
    {
     "data": {
      "text/plain": [
       "array([ 1.        ,  1.47368421,  1.94736842,  2.42105263,  2.89473684,\n",
       "        3.36842105,  3.84210526,  4.31578947,  4.78947368,  5.26315789,\n",
       "        5.73684211,  6.21052632,  6.68421053,  7.15789474,  7.63157895,\n",
       "        8.10526316,  8.57894737,  9.05263158,  9.52631579, 10.        ])"
      ]
     },
     "execution_count": 85,
     "metadata": {},
     "output_type": "execute_result"
    }
   ],
   "source": [
    "# Equally divides the number betwenn start and stop\n",
    "np.linspace(1,10,20)"
   ]
  },
  {
   "cell_type": "code",
   "execution_count": null,
   "id": "6df02994",
   "metadata": {},
   "outputs": [
    {
     "name": "stdout",
     "output_type": "stream",
     "text": [
      "[[100, 2, 3]]\n",
      "[[100, 2, 3]]\n",
      "[[100, 200, 3]]\n",
      "[[100, 200, 3]]\n"
     ]
    }
   ],
   "source": [
    "# Shallow copy\n",
    "\n",
    "original = [[1, 2, 3]]\n",
    "shallow = original.copy()\n",
    "\n",
    "# Modifying the shallow copy\n",
    "shallow[0][0] = 100\n",
    "print(shallow)  # [100, 2, 3]\n",
    "print(original)  # [100, 2, 3]\n",
    "\n",
    "# Modifying the original\n",
    "original[0][1] = 200\n",
    "print(shallow)  # [100, 200, 3]\n",
    "print(original)  # [1, 200, 3]"
   ]
  },
  {
   "cell_type": "code",
   "execution_count": 88,
   "id": "079d7082",
   "metadata": {},
   "outputs": [
    {
     "name": "stdout",
     "output_type": "stream",
     "text": [
      "Inverse of \n",
      "[[1 2]\n",
      " [3 4]]: \n",
      "[[-2.   1. ]\n",
      " [ 1.5 -0.5]]\n",
      "Determinant of array is \n",
      "-2.0000000000000004\n"
     ]
    }
   ],
   "source": [
    "# Linear algebra functions example\n",
    "\n",
    "arr3 = np.array([[1,2],[3,4]])\n",
    "arr3_inv = np.linalg.inv(arr3)\n",
    "print(f\"Inverse of \\n{arr3}: \\n{arr3_inv}\")\n",
    "\n",
    "arr4 = np.linalg.det(arr3)\n",
    "print(f\"Determinant of array is \\n{arr4}\")"
   ]
  },
  {
   "cell_type": "code",
   "execution_count": 89,
   "id": "f511b13e",
   "metadata": {},
   "outputs": [
    {
     "name": "stdout",
     "output_type": "stream",
     "text": [
      "[ 0  1  2  3  4  5  6  7  8  9 10 11 12 13 14 15]\n"
     ]
    }
   ],
   "source": [
    "# To flatten an array\n",
    "Flattend_array = arr2D.flatten()\n",
    "print(Flattend_array)"
   ]
  },
  {
   "cell_type": "code",
   "execution_count": 90,
   "id": "cb8e0d13",
   "metadata": {},
   "outputs": [
    {
     "name": "stdout",
     "output_type": "stream",
     "text": [
      "[15 14 13 12 11 10  9  8  7  6  5  4  3  2  1  0]\n",
      "[15 14 13 12 11 10  9  8  7  6  5  4  3  2  1  0]\n"
     ]
    }
   ],
   "source": [
    "# Flipping an array\n",
    "# For 1D\n",
    "print(Flattend_array[::-1])\n",
    "\n",
    "# For all Dimensions\n",
    "print(np.flip(Flattend_array))\n",
    "\n",
    "# For 2D we have other functions like np.flipudp and np.fliplr"
   ]
  },
  {
   "cell_type": "code",
   "execution_count": 91,
   "id": "7ba8c173",
   "metadata": {},
   "outputs": [
    {
     "data": {
      "text/plain": [
       "array([1, 3, 5])"
      ]
     },
     "execution_count": 91,
     "metadata": {},
     "output_type": "execute_result"
    }
   ],
   "source": [
    "# Slicing works like array[row_start:row_stop:row_step, col_start:col_stop:col_step\n",
    "\n",
    "Flattend_array[1:7:2]"
   ]
  },
  {
   "cell_type": "code",
   "execution_count": 95,
   "id": "eb91f7e1",
   "metadata": {},
   "outputs": [
    {
     "name": "stdout",
     "output_type": "stream",
     "text": [
      "For array [ 0  1  2  3  4  5  6  7  8  9 10 11 12 13 14 15] below are various stats\n",
      "Mean : 7.5\n",
      "Median : 7.5\n",
      "Standard Deviation: 4.6097722286464435\n",
      "Variance: 21.25\n"
     ]
    }
   ],
   "source": [
    "# Mean, median, std\n",
    "Flattend_array_mean = np.mean(Flattend_array)\n",
    "Flattend_array_median = np.median(Flattend_array)\n",
    "Flattend_array_std = np.std(Flattend_array)\n",
    "Flattend_array_var = np.var(Flattend_array)\n",
    "\n",
    "print(f\"For array {Flattend_array} below are various stats\")\n",
    "print(f\"Mean : {Flattend_array_mean}\")\n",
    "print(f\"Median : {Flattend_array_median}\")\n",
    "print(f\"Standard Deviation: {Flattend_array_std}\")\n",
    "print(f\"Variance: {Flattend_array_var}\")\n",
    "\n",
    "# Mode is not present in numpy"
   ]
  },
  {
   "cell_type": "code",
   "execution_count": null,
   "id": "e30718b7",
   "metadata": {},
   "outputs": [
    {
     "name": "stdout",
     "output_type": "stream",
     "text": [
      "[[0.77383585 0.25260631 0.64613429]\n",
      " [0.39328269 0.50026015 0.82195732]\n",
      " [0.24609682 0.85206968 0.27014455]\n",
      " [0.84389272 0.14399655 0.03476544]]\n"
     ]
    },
    {
     "data": {
      "text/plain": [
       "array([485, 456, 451, 466])"
      ]
     },
     "execution_count": 103,
     "metadata": {},
     "output_type": "execute_result"
    }
   ],
   "source": [
    "# Generate random number\n",
    "print(np.random.rand(4,3)) # Generates a random array for the specified dimention\n",
    "np.random.randint(442,535,size=4)"
   ]
  },
  {
   "cell_type": "code",
   "execution_count": 107,
   "id": "70f9b702",
   "metadata": {},
   "outputs": [
    {
     "data": {
      "text/plain": [
       "array([0.6 , 0.75, 0.9 ])"
      ]
     },
     "execution_count": 107,
     "metadata": {},
     "output_type": "execute_result"
    }
   ],
   "source": [
    "# Percentiles\n",
    "np.percentile(Flattend_array,[4,5,6]) # Here we can specify quartile too like[4,5,6]"
   ]
  },
  {
   "cell_type": "code",
   "execution_count": null,
   "id": "84bda551",
   "metadata": {},
   "outputs": [
    {
     "name": "stdout",
     "output_type": "stream",
     "text": [
      "21.25\n",
      "21.25\n"
     ]
    }
   ],
   "source": []
  },
  {
   "cell_type": "code",
   "execution_count": null,
   "id": "0d478175",
   "metadata": {},
   "outputs": [],
   "source": []
  }
 ],
 "metadata": {
  "kernelspec": {
   "display_name": "base",
   "language": "python",
   "name": "python3"
  },
  "language_info": {
   "codemirror_mode": {
    "name": "ipython",
    "version": 3
   },
   "file_extension": ".py",
   "mimetype": "text/x-python",
   "name": "python",
   "nbconvert_exporter": "python",
   "pygments_lexer": "ipython3",
   "version": "3.9.12"
  }
 },
 "nbformat": 4,
 "nbformat_minor": 5
}
